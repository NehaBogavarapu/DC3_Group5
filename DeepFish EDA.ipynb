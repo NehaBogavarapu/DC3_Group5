{
 "cells": [
  {
   "cell_type": "code",
   "execution_count": 38,
   "id": "425ad2c8",
   "metadata": {},
   "outputs": [],
   "source": [
    "import pandas as pd\n",
    "import matplotlib.pyplot as plt\n"
   ]
  },
  {
   "cell_type": "code",
   "execution_count": 21,
   "id": "0e02901a",
   "metadata": {},
   "outputs": [],
   "source": [
    "path = \"data/Localization/Localization.csv\"\n",
    "df = pd.read_csv(path)"
   ]
  },
  {
   "cell_type": "code",
   "execution_count": 30,
   "id": "25fdd05d",
   "metadata": {},
   "outputs": [
    {
     "data": {
      "text/html": [
       "<div>\n",
       "<style scoped>\n",
       "    .dataframe tbody tr th:only-of-type {\n",
       "        vertical-align: middle;\n",
       "    }\n",
       "\n",
       "    .dataframe tbody tr th {\n",
       "        vertical-align: top;\n",
       "    }\n",
       "\n",
       "    .dataframe thead th {\n",
       "        text-align: right;\n",
       "    }\n",
       "</style>\n",
       "<table border=\"1\" class=\"dataframe\">\n",
       "  <thead>\n",
       "    <tr style=\"text-align: right;\">\n",
       "      <th></th>\n",
       "      <th>ID</th>\n",
       "      <th>counts</th>\n",
       "      <th>habitats</th>\n",
       "      <th>labels</th>\n",
       "      <th>classes</th>\n",
       "      <th>frames</th>\n",
       "    </tr>\n",
       "  </thead>\n",
       "  <tbody>\n",
       "    <tr>\n",
       "      <th>0</th>\n",
       "      <td>empty/7117_no_fish_2_f000000</td>\n",
       "      <td>0</td>\n",
       "      <td>7117</td>\n",
       "      <td>0</td>\n",
       "      <td>empty</td>\n",
       "      <td>7117_no_fish_2_f000000</td>\n",
       "    </tr>\n",
       "    <tr>\n",
       "      <th>1</th>\n",
       "      <td>empty/7117_no_fish_2_f000010</td>\n",
       "      <td>0</td>\n",
       "      <td>7117</td>\n",
       "      <td>0</td>\n",
       "      <td>empty</td>\n",
       "      <td>7117_no_fish_2_f000010</td>\n",
       "    </tr>\n",
       "    <tr>\n",
       "      <th>2</th>\n",
       "      <td>empty/7117_no_fish_2_f000020</td>\n",
       "      <td>0</td>\n",
       "      <td>7117</td>\n",
       "      <td>0</td>\n",
       "      <td>empty</td>\n",
       "      <td>7117_no_fish_2_f000020</td>\n",
       "    </tr>\n",
       "    <tr>\n",
       "      <th>3</th>\n",
       "      <td>empty/7117_no_fish_2_f000030</td>\n",
       "      <td>0</td>\n",
       "      <td>7117</td>\n",
       "      <td>0</td>\n",
       "      <td>empty</td>\n",
       "      <td>7117_no_fish_2_f000030</td>\n",
       "    </tr>\n",
       "    <tr>\n",
       "      <th>4</th>\n",
       "      <td>empty/7117_no_fish_2_f000040</td>\n",
       "      <td>0</td>\n",
       "      <td>7117</td>\n",
       "      <td>0</td>\n",
       "      <td>empty</td>\n",
       "      <td>7117_no_fish_2_f000040</td>\n",
       "    </tr>\n",
       "  </tbody>\n",
       "</table>\n",
       "</div>"
      ],
      "text/plain": [
       "                             ID  counts  habitats  labels classes  \\\n",
       "0  empty/7117_no_fish_2_f000000       0      7117       0   empty   \n",
       "1  empty/7117_no_fish_2_f000010       0      7117       0   empty   \n",
       "2  empty/7117_no_fish_2_f000020       0      7117       0   empty   \n",
       "3  empty/7117_no_fish_2_f000030       0      7117       0   empty   \n",
       "4  empty/7117_no_fish_2_f000040       0      7117       0   empty   \n",
       "\n",
       "                   frames  \n",
       "0  7117_no_fish_2_f000000  \n",
       "1  7117_no_fish_2_f000010  \n",
       "2  7117_no_fish_2_f000020  \n",
       "3  7117_no_fish_2_f000030  \n",
       "4  7117_no_fish_2_f000040  "
      ]
     },
     "execution_count": 30,
     "metadata": {},
     "output_type": "execute_result"
    }
   ],
   "source": [
    "df.head()"
   ]
  },
  {
   "cell_type": "code",
   "execution_count": 31,
   "id": "16d8719b",
   "metadata": {},
   "outputs": [
    {
     "name": "stdout",
     "output_type": "stream",
     "text": [
      "<class 'pandas.core.frame.DataFrame'>\n",
      "RangeIndex: 3200 entries, 0 to 3199\n",
      "Data columns (total 6 columns):\n",
      " #   Column    Non-Null Count  Dtype \n",
      "---  ------    --------------  ----- \n",
      " 0   ID        3200 non-null   object\n",
      " 1   counts    3200 non-null   int64 \n",
      " 2   habitats  3200 non-null   int64 \n",
      " 3   labels    3200 non-null   int64 \n",
      " 4   classes   3200 non-null   object\n",
      " 5   frames    3200 non-null   object\n",
      "dtypes: int64(3), object(3)\n",
      "memory usage: 150.1+ KB\n"
     ]
    }
   ],
   "source": [
    "df.info()"
   ]
  },
  {
   "cell_type": "code",
   "execution_count": 32,
   "id": "01a04619",
   "metadata": {},
   "outputs": [
    {
     "data": {
      "text/plain": [
       "0    1600\n",
       "1    1600\n",
       "Name: labels, dtype: int64"
      ]
     },
     "execution_count": 32,
     "metadata": {},
     "output_type": "execute_result"
    }
   ],
   "source": [
    "# number of frames that contain fishes (label=1) and don't (label=0)\n",
    "df[\"labels\"].value_counts()"
   ]
  },
  {
   "cell_type": "code",
   "execution_count": 60,
   "id": "8ca2f2a3",
   "metadata": {},
   "outputs": [
    {
     "data": {
      "text/plain": [
       "<AxesSubplot:>"
      ]
     },
     "execution_count": 60,
     "metadata": {},
     "output_type": "execute_result"
    },
    {
     "data": {
      "image/png": "[encoded data removed]",
      "text/plain": [
       "<Figure size 432x288 with 1 Axes>"
      ]
     },
     "metadata": {
      "needs_background": "light"
     },
     "output_type": "display_data"
    }
   ],
   "source": [
    "# frames per habitat (video clip)\n",
    "df[\"habitats\"].value_counts().plot(kind=\"bar\")"
   ]
  },
  {
   "cell_type": "code",
   "execution_count": 61,
   "id": "e73af2f2",
   "metadata": {},
   "outputs": [],
   "source": [
    "pivot = pd.pivot_table(data=df, index=['habitats'], columns=['labels'], values='counts')"
   ]
  },
  {
   "cell_type": "code",
   "execution_count": 62,
   "id": "36e49011",
   "metadata": {},
   "outputs": [
    {
     "data": {
      "image/png": "[encoded data removed]",
      "text/plain": [
       "<Figure size 576x432 with 1 Axes>"
      ]
     },
     "metadata": {
      "needs_background": "light"
     },
     "output_type": "display_data"
    }
   ],
   "source": [
    "# Count occurrences of each label (0s and 1s) per habitat\n",
    "label_counts = df.groupby(['habitats', 'labels']).size().unstack(fill_value=0)\n",
    "\n",
    "\n",
    "# Sort habitats by the total count (sum of label 0s and 1s), in decreasing order\n",
    "label_counts['Total'] = label_counts.sum(axis=1)\n",
    "label_counts = label_counts.sort_values(by='Total', ascending=False).drop(columns='Total')\n",
    "\n",
    "# Plot the stacked bar chart\n",
    "ax = label_counts.plot.bar(stacked=True, color=['lightseagreen', 'tomato'], figsize=(8,6))\n",
    "\n",
    "# Add labels and title\n",
    "plt.ylabel('Count of Labels')\n",
    "plt.title('Proportion of frames containing fishes in each habitat')\n",
    "\n",
    "# Display the plot\n",
    "plt.show()"
   ]
  },
  {
   "cell_type": "code",
   "execution_count": 63,
   "id": "ab6626b7",
   "metadata": {},
   "outputs": [],
   "source": [
    "test = pd.read_csv(\"data/Localization/test.csv\")\n",
    "train = pd.read_csv(\"data/Localization/train.csv\")\n",
    "val = pd.read_csv(\"data/Localization/val.csv\")\n"
   ]
  },
  {
   "cell_type": "code",
   "execution_count": 64,
   "id": "1de3e49b",
   "metadata": {},
   "outputs": [],
   "source": [
    "# train"
   ]
  },
  {
   "cell_type": "code",
   "execution_count": 65,
   "id": "638036af",
   "metadata": {},
   "outputs": [
    {
     "data": {
      "image/png": "[encoded data removed]",
      "text/plain": [
       "<Figure size 576x432 with 1 Axes>"
      ]
     },
     "metadata": {
      "needs_background": "light"
     },
     "output_type": "display_data"
    }
   ],
   "source": [
    "# Count occurrences of each label (0s and 1s) per habitat\n",
    "label_counts = train.groupby(['habitats', 'labels']).size().unstack(fill_value=0)\n",
    "\n",
    "\n",
    "# Sort habitats by the total count (sum of label 0s and 1s), in decreasing order\n",
    "label_counts['Total'] = label_counts.sum(axis=1)\n",
    "label_counts = label_counts.sort_values(by='Total', ascending=False).drop(columns='Total')\n",
    "\n",
    "# Plot the stacked bar chart\n",
    "ax = label_counts.plot.bar(stacked=True, color=['lightseagreen', 'tomato'], figsize=(8,6))\n",
    "\n",
    "# Add labels and title\n",
    "plt.ylabel('Count of Labels')\n",
    "plt.title('TRAIN SET Proportion of frames containing fishes in each habitat')\n",
    "\n",
    "# Display the plot\n",
    "plt.show()"
   ]
  },
  {
   "cell_type": "code",
   "execution_count": 66,
   "id": "3e49c398",
   "metadata": {},
   "outputs": [],
   "source": [
    "# test"
   ]
  },
  {
   "cell_type": "code",
   "execution_count": 67,
   "id": "22345d10",
   "metadata": {},
   "outputs": [
    {
     "data": {
      "image/png": "[encoded data removed]",
      "text/plain": [
       "<Figure size 576x432 with 1 Axes>"
      ]
     },
     "metadata": {
      "needs_background": "light"
     },
     "output_type": "display_data"
    }
   ],
   "source": [
    "# Count occurrences of each label (0s and 1s) per habitat\n",
    "label_counts = test.groupby(['habitats', 'labels']).size().unstack(fill_value=0)\n",
    "\n",
    "\n",
    "# Sort habitats by the total count (sum of label 0s and 1s), in decreasing order\n",
    "label_counts['Total'] = label_counts.sum(axis=1)\n",
    "label_counts = label_counts.sort_values(by='Total', ascending=False).drop(columns='Total')\n",
    "\n",
    "# Plot the stacked bar chart\n",
    "ax = label_counts.plot.bar(stacked=True, color=['lightseagreen', 'tomato'], figsize=(8,6))\n",
    "\n",
    "# Add labels and title\n",
    "plt.ylabel('Count of Labels')\n",
    "plt.title('TEST SET Proportion of frames containing fishes in each habitat')\n",
    "\n",
    "# Display the plot\n",
    "plt.show()"
   ]
  },
  {
   "cell_type": "code",
   "execution_count": 68,
   "id": "ef20f5a9",
   "metadata": {},
   "outputs": [],
   "source": [
    "# val"
   ]
  },
  {
   "cell_type": "code",
   "execution_count": 69,
   "id": "59779e7b",
   "metadata": {},
   "outputs": [
    {
     "data": {
      "image/png": "[encoded data removed]",
      "text/plain": [
       "<Figure size 576x432 with 1 Axes>"
      ]
     },
     "metadata": {
      "needs_background": "light"
     },
     "output_type": "display_data"
    }
   ],
   "source": [
    "# Count occurrences of each label (0s and 1s) per habitat\n",
    "label_counts = val.groupby(['habitats', 'labels']).size().unstack(fill_value=0)\n",
    "\n",
    "\n",
    "# Sort habitats by the total count (sum of label 0s and 1s), in decreasing order\n",
    "label_counts['Total'] = label_counts.sum(axis=1)\n",
    "label_counts = label_counts.sort_values(by='Total', ascending=False).drop(columns='Total')\n",
    "\n",
    "# Plot the stacked bar chart\n",
    "ax = label_counts.plot.bar(stacked=True, color=['lightseagreen', 'tomato'], figsize=(8,6))\n",
    "\n",
    "# Add labels and title\n",
    "plt.ylabel('Count of Labels')\n",
    "plt.title('VALIDATION SET Proportion of frames containing fishes in each habitat')\n",
    "\n",
    "# Display the plot\n",
    "plt.show()"
   ]
  },
  {
   "cell_type": "code",
   "execution_count": 1,
   "id": "ee408d66",
   "metadata": {},
   "outputs": [
    {
     "ename": "ModuleNotFoundError",
     "evalue": "No module named 'cv2'",
     "output_type": "error",
     "traceback": [
      "\u001b[1;31m---------------------------------------------------------------------------\u001b[0m",
      "\u001b[1;31mModuleNotFoundError\u001b[0m                       Traceback (most recent call last)",
      "\u001b[1;32m<ipython-input-1-0435f7c3c7d6>\u001b[0m in \u001b[0;36m<module>\u001b[1;34m\u001b[0m\n\u001b[0;32m      2\u001b[0m \u001b[1;32mimport\u001b[0m \u001b[0mrandom\u001b[0m\u001b[1;33m\u001b[0m\u001b[1;33m\u001b[0m\u001b[0m\n\u001b[0;32m      3\u001b[0m \u001b[1;32mimport\u001b[0m \u001b[0mglob\u001b[0m\u001b[1;33m\u001b[0m\u001b[1;33m\u001b[0m\u001b[0m\n\u001b[1;32m----> 4\u001b[1;33m \u001b[1;32mimport\u001b[0m \u001b[0mcv2\u001b[0m\u001b[1;33m\u001b[0m\u001b[1;33m\u001b[0m\u001b[0m\n\u001b[0m\u001b[0;32m      5\u001b[0m \u001b[1;32mimport\u001b[0m \u001b[0mnumpy\u001b[0m \u001b[1;32mas\u001b[0m \u001b[0mnp\u001b[0m\u001b[1;33m\u001b[0m\u001b[1;33m\u001b[0m\u001b[0m\n\u001b[0;32m      6\u001b[0m \u001b[1;32mimport\u001b[0m \u001b[0mpandas\u001b[0m \u001b[1;32mas\u001b[0m \u001b[0mpd\u001b[0m\u001b[1;33m\u001b[0m\u001b[1;33m\u001b[0m\u001b[0m\n",
      "\u001b[1;31mModuleNotFoundError\u001b[0m: No module named 'cv2'"
     ]
    }
   ],
   "source": [
    "import os\n",
    "import random\n",
    "import glob\n",
    "import cv2\n",
    "import numpy as np\n",
    "import pandas as pd\n",
    "import matplotlib.pyplot as plt\n",
    "import xml.etree.ElementTree as ET \n",
    "from PIL import Image, ImageDraw"
   ]
  },
  {
   "cell_type": "code",
   "execution_count": null,
   "id": "8e438cfd",
   "metadata": {},
   "outputs": [],
   "source": []
  }
 ],
 "metadata": {
  "kernelspec": {
   "display_name": "Python 3",
   "language": "python",
   "name": "python3"
  },
  "language_info": {
   "codemirror_mode": {
    "name": "ipython",
    "version": 3
   },
   "file_extension": ".py",
   "mimetype": "text/x-python",
   "name": "python",
   "nbconvert_exporter": "python",
   "pygments_lexer": "ipython3",
   "version": "3.8.8"
  }
 },
 "nbformat": 4,
 "nbformat_minor": 5
}
